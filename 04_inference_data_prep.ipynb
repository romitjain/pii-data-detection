{
 "cells": [
  {
   "cell_type": "code",
   "execution_count": null,
   "id": "5fe48a2f-c14a-42a8-a763-84fb11b07bfe",
   "metadata": {},
   "outputs": [],
   "source": [
    "import os\n",
    "import json\n",
    "import pandas as pd\n",
    "from tqdm import tqdm\n",
    "from transformers import AutoModelForTokenClassification, AutoTokenizer\n",
    "\n",
    "import torch\n",
    "from torch.nn.utils.rnn import pad_sequence\n",
    "\n",
    "from datasets import Dataset\n",
    "from model import get_model\n",
    "from data_utils import id2label, chunk_examples_infer, tokenizer_and_align_infer\n",
    "\n",
    "from loguru import logger\n",
    "\n",
    "device = 'cuda'"
   ]
  },
  {
   "cell_type": "code",
   "execution_count": null,
   "id": "20c0a574-a6c2-42c0-a7e5-da2a33d32d16",
   "metadata": {},
   "outputs": [],
   "source": [
    "def get_data(path, tokenizer):\n",
    "    with open(path, 'r') as fp:\n",
    "        data = json.load(fp)\n",
    "\n",
    "    data = pd.DataFrame(data)\n",
    "    x = Dataset.from_pandas(data)\n",
    "\n",
    "    logger.info(f'Original length of the dataset: {len(data)}')\n",
    "\n",
    "    # x = Dataset.from_list(data)\n",
    "    x = x.map(tokenizer_and_align_infer, num_proc=1, fn_kwargs={'tokenizer': tokenizer})\n",
    "\n",
    "    x = x.map(\n",
    "        chunk_examples_infer,\n",
    "        num_proc=1,\n",
    "        batched=True,\n",
    "        batch_size=10,\n",
    "        remove_columns=x.column_names,\n",
    "        fn_kwargs={'max_len': 512}\n",
    "    )\n",
    "\n",
    "    logger.info(f'Size of dataset after transformation {len(x)}')\n",
    "\n",
    "    return x\n",
    "\n",
    "\n",
    "def get_model(path):\n",
    "    model = AutoModelForTokenClassification.from_pretrained(\n",
    "        os.path.join(path, 'model'), ignore_mismatched_sizes=True\n",
    "    )\n",
    "    tokenizer = AutoTokenizer.from_pretrained(os.path.join(path, 'tokenizer'))\n",
    "    model.to(device)\n",
    "    return model, tokenizer"
   ]
  },
  {
   "cell_type": "code",
   "execution_count": null,
   "id": "9b1f8e51-9752-4759-8bdc-764272fb828b",
   "metadata": {},
   "outputs": [],
   "source": [
    "dataset_path = './data/test.json'\n",
    "model_path = './model/20240406_2252/'"
   ]
  },
  {
   "cell_type": "code",
   "execution_count": null,
   "id": "26995783-d951-4343-a926-8c8338a6cef8",
   "metadata": {
    "scrolled": true
   },
   "outputs": [],
   "source": [
    "_, tokenizer = get_model(model_path)\n",
    "test_ds = get_data(path=dataset_path, tokenizer=tokenizer)"
   ]
  },
  {
   "cell_type": "code",
   "execution_count": null,
   "id": "310b5b70-0056-4aae-aa3f-b40b50f34550",
   "metadata": {},
   "outputs": [],
   "source": [
    "test_dict = test_ds.to_dict()"
   ]
  },
  {
   "cell_type": "code",
   "execution_count": null,
   "id": "90f5ea8b-b687-4a9d-82a2-27e9970c3d25",
   "metadata": {},
   "outputs": [],
   "source": [
    "with open('./data/processed/test/test_processed.json', 'w') as fp:\n",
    "    json.dump(test_dict, fp)"
   ]
  },
  {
   "cell_type": "code",
   "execution_count": null,
   "id": "ace8f20a-05a9-4ac9-8835-669816461312",
   "metadata": {},
   "outputs": [],
   "source": []
  }
 ],
 "metadata": {
  "kernelspec": {
   "display_name": "Python 3 (ipykernel)",
   "language": "python",
   "name": "python3"
  },
  "language_info": {
   "codemirror_mode": {
    "name": "ipython",
    "version": 3
   },
   "file_extension": ".py",
   "mimetype": "text/x-python",
   "name": "python",
   "nbconvert_exporter": "python",
   "pygments_lexer": "ipython3",
   "version": "3.11.6"
  }
 },
 "nbformat": 4,
 "nbformat_minor": 5
}
