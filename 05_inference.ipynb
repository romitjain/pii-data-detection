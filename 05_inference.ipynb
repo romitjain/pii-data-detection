{
 "cells": [
  {
   "cell_type": "code",
   "execution_count": null,
   "id": "f578f8c7-2d5b-472a-a645-b142f12df13d",
   "metadata": {},
   "outputs": [],
   "source": [
    "import os\n",
    "import sys\n",
    "import torch\n",
    "import json\n",
    "import pandas as pd\n",
    "import numpy as np\n",
    "from tqdm import tqdm\n",
    "from loguru import logger\n",
    "from typing import List, Dict\n",
    "from torch.nn.utils.rnn import pad_sequence\n",
    "from transformers import AutoModelForTokenClassification, AutoTokenizer\n",
    "from torch.nn.utils.rnn import pad_sequence\n",
    "from datasets import Dataset\n",
    "\n",
    "device = 'cuda'\n",
    "\n",
    "log_format = \"<level>{time:YYYY-MM-DD HH:mm:ss} | {level: <8} | {name}:{function}:{line} - {message}</level>\"\n",
    "\n",
    "logger.remove()\n",
    "logger.add(sys.stdout, format=log_format, level='INFO', colorize=True)"
   ]
  },
  {
   "cell_type": "code",
   "execution_count": null,
   "id": "25651123-9209-4d7b-9407-ee9b6311167d",
   "metadata": {},
   "outputs": [],
   "source": [
    "label2id = {\n",
    "    'O': 0,\n",
    "    'B-NAME_STUDENT': 1,\n",
    "    'B-EMAIL': 2,\n",
    "    'B-USERNAME': 3,\n",
    "    'B-ID_NUM': 4,\n",
    "    'B-PHONE_NUM': 5,\n",
    "    'B-URL_PERSONAL': 6,\n",
    "    'B-STREET_ADDRESS': 7,\n",
    "    'I-NAME_STUDENT': 8,\n",
    "    'I-EMAIL': 9,\n",
    "    'I-USERNAME': 10,\n",
    "    'I-ID_NUM': 11,\n",
    "    'I-PHONE_NUM': 12,\n",
    "    'I-URL_PERSONAL': 13,\n",
    "    'I-STREET_ADDRESS': 14\n",
    "}\n",
    "\n",
    "id2label = {\n",
    "    0: 'O',\n",
    "    1: 'B-NAME_STUDENT',\n",
    "    2: 'B-EMAIL',\n",
    "    3: 'B-USERNAME',\n",
    "    4: 'B-ID_NUM',\n",
    "    5: 'B-PHONE_NUM',\n",
    "    6: 'B-URL_PERSONAL',\n",
    "    7: 'B-STREET_ADDRESS',\n",
    "    8: 'I-NAME_STUDENT',\n",
    "    9: 'I-EMAIL',\n",
    "    10: 'I-USERNAME',\n",
    "    11: 'I-ID_NUM',\n",
    "    12: 'I-PHONE_NUM',\n",
    "    13: 'I-URL_PERSONAL',\n",
    "    14: 'I-STREET_ADDRESS'\n",
    "}"
   ]
  },
  {
   "cell_type": "code",
   "execution_count": null,
   "id": "5e4fcbdb-2e72-4e8b-b1c9-14887c433a2c",
   "metadata": {},
   "outputs": [],
   "source": [
    "def get_data(path):\n",
    "    with open(path, 'r') as fp:\n",
    "        data = json.load(fp)\n",
    "        \n",
    "    x = Dataset.from_dict(data)\n",
    "    logger.info(f'Size of dataset{len(x)}')\n",
    "\n",
    "    return x\n",
    "\n",
    "\n",
    "def get_model(model_path, tokenizer_path):\n",
    "    model = AutoModelForTokenClassification.from_pretrained(model_path)\n",
    "    tokenizer = AutoTokenizer.from_pretrained(tokenizer_path)\n",
    "    model.to(device)\n",
    "    return model, tokenizer\n",
    "\n",
    "\n",
    "def eval_model(trained_model, eval_dataset):\n",
    "    metrics = {\n",
    "        'document': [],\n",
    "        'token': [],\n",
    "        'label': []\n",
    "    }\n",
    "    \n",
    "    trained_model.eval()\n",
    "    \n",
    "    with torch.no_grad():\n",
    "        for batch in tqdm(eval_dataset, total=len(eval_dataset)):\n",
    "    \n",
    "            document_ids = batch['document_id']\n",
    "            input_ids = torch.tensor(batch['input_ids']).reshape(-1, 1).to(device)\n",
    "            attention_mask = torch.tensor(batch['attention_mask']).reshape(-1, 1).to(device)\n",
    "    \n",
    "            outputs = model(input_ids, attention_mask=attention_mask)\n",
    "    \n",
    "            _, predicted_labels = torch.max(outputs.logits, -1)\n",
    "    \n",
    "            idx = 0\n",
    "    \n",
    "            for _, a, p in zip(input_ids, attention_mask, predicted_labels):\n",
    "                if p == 0 or a == 0:\n",
    "                    idx += 1\n",
    "                    continue\n",
    "    \n",
    "                metrics['document'].append(document_ids)\n",
    "                metrics['token'].append(idx)\n",
    "                metrics['label'].append(id2label[p.item()])\n",
    "                idx += 1\n",
    "    return metrics"
   ]
  },
  {
   "cell_type": "code",
   "execution_count": null,
   "id": "dc8c0c7c-fa11-4ec1-86fa-eb5f3ec59e13",
   "metadata": {},
   "outputs": [],
   "source": [
    "dataset_path = './data/processed/test/test_processed.json'\n",
    "tokenizer_path = './model/20240402_2108//tokenizer/'\n",
    "model_path = './model/20240402_2108/model/'"
   ]
  },
  {
   "cell_type": "code",
   "execution_count": null,
   "id": "fe951e96-94cc-4787-bf28-208af213aab4",
   "metadata": {},
   "outputs": [],
   "source": [
    "model, tokenizer = get_model(model_path, tokenizer_path)\n",
    "test_ds = get_data(dataset_path)"
   ]
  },
  {
   "cell_type": "code",
   "execution_count": null,
   "id": "9a7370dd-5fb6-41ab-ae90-93e8580d980d",
   "metadata": {
    "scrolled": true
   },
   "outputs": [],
   "source": [
    "test_metrics = eval_model(\n",
    "    trained_model=model,\n",
    "    eval_dataset=test_ds\n",
    ")"
   ]
  },
  {
   "cell_type": "code",
   "execution_count": null,
   "id": "4f619a35-4b0e-41c2-8de8-4e74e3ef89dd",
   "metadata": {},
   "outputs": [],
   "source": [
    "df = pd.DataFrame(test_metrics)\n",
    "df.reset_index(inplace=True)\n",
    "df.columns = ['row_id', 'document', 'token', 'label']"
   ]
  },
  {
   "cell_type": "code",
   "execution_count": null,
   "id": "ebcf3502-cc41-49ae-b38f-1998232d5d89",
   "metadata": {},
   "outputs": [],
   "source": [
    "tokenizer.decode(test_ds[0]['input_ids'])"
   ]
  },
  {
   "cell_type": "code",
   "execution_count": null,
   "id": "793b4fd2-e665-420a-a480-ca178aed6126",
   "metadata": {},
   "outputs": [],
   "source": [
    "df"
   ]
  },
  {
   "cell_type": "markdown",
   "id": "4d32a353-05c7-4dad-8d82-2aff650b6dd2",
   "metadata": {},
   "source": [
    "### Rough"
   ]
  },
  {
   "cell_type": "code",
   "execution_count": null,
   "id": "a818bdf2-a1d7-48fa-b288-d5917852fd96",
   "metadata": {
    "scrolled": true
   },
   "outputs": [],
   "source": [
    "tokenizer.decode(test_ds[-1]['input_ids'])"
   ]
  },
  {
   "cell_type": "code",
   "execution_count": null,
   "id": "a17ccedb-9d5e-477b-bc1b-c5de4251c88f",
   "metadata": {},
   "outputs": [],
   "source": [
    "z = test_ds[-1]\n",
    "o = model(torch.tensor(z['input_ids']).reshape(1, -1).to('cuda'), torch.tensor(z['attention_mask']).reshape(1, -1).to('cuda'))"
   ]
  },
  {
   "cell_type": "code",
   "execution_count": null,
   "id": "2942b571-2c3b-4622-8f2a-e99c6ec50883",
   "metadata": {
    "scrolled": true
   },
   "outputs": [],
   "source": [
    "for pred, token in zip(o.logits.argmax(-1)[0], z['input_ids']):\n",
    "    if pred.item() == 0:\n",
    "        continue\n",
    "    print(f'{tokenizer.decode(token)} ==> {id2label[pred.item()]}')"
   ]
  },
  {
   "cell_type": "code",
   "execution_count": null,
   "id": "68028f28-686c-4ad0-b6ee-335bd45c8eb8",
   "metadata": {
    "scrolled": true
   },
   "outputs": [],
   "source": [
    "tokenizer.decode(ds['train'][0]['input_ids'])"
   ]
  },
  {
   "cell_type": "code",
   "execution_count": null,
   "id": "5c0c2e56-d60c-438f-89aa-ce3cfc7d8f04",
   "metadata": {},
   "outputs": [],
   "source": [
    "o.logits.shape"
   ]
  },
  {
   "cell_type": "code",
   "execution_count": null,
   "id": "6477f84e-f47a-4568-a4e8-2c725d4a0f34",
   "metadata": {},
   "outputs": [],
   "source": [
    "_, p = torch.max(o.logits, -1)"
   ]
  },
  {
   "cell_type": "code",
   "execution_count": null,
   "id": "050d84cd-df6d-493c-9656-61ee95ad32b6",
   "metadata": {},
   "outputs": [],
   "source": [
    "o.logits[0][0]"
   ]
  },
  {
   "cell_type": "code",
   "execution_count": null,
   "id": "5ca16cfe-7b48-40b9-9955-ca7b73f08bb6",
   "metadata": {},
   "outputs": [],
   "source": [
    "from datasets import load_from_disk"
   ]
  },
  {
   "cell_type": "code",
   "execution_count": null,
   "id": "655a8305-3c04-4be7-9681-9aba535f2c9c",
   "metadata": {},
   "outputs": [],
   "source": [
    "ds = load_from_disk('data/processed/dataset_3/')"
   ]
  },
  {
   "cell_type": "code",
   "execution_count": null,
   "id": "88a6f1a0-693f-4d32-a49c-f5a8f7f7c93e",
   "metadata": {},
   "outputs": [],
   "source": [
    "batch = torch.tensor(ds['train'][0]['input_ids']).reshape(1, -1).to('cuda')"
   ]
  },
  {
   "cell_type": "code",
   "execution_count": null,
   "id": "382cae36-b2d0-40e0-93c7-4c60b76c6d22",
   "metadata": {},
   "outputs": [],
   "source": [
    "batch.shape"
   ]
  },
  {
   "cell_type": "code",
   "execution_count": null,
   "id": "100ec267-5f4f-45fd-883a-a0a71faac52e",
   "metadata": {
    "scrolled": true
   },
   "outputs": [],
   "source": [
    "o = model(batch)"
   ]
  },
  {
   "cell_type": "code",
   "execution_count": null,
   "id": "84570028-dff0-42ae-a730-8810732a15a5",
   "metadata": {},
   "outputs": [],
   "source": []
  }
 ],
 "metadata": {
  "kernelspec": {
   "display_name": "Python 3 (ipykernel)",
   "language": "python",
   "name": "python3"
  },
  "language_info": {
   "codemirror_mode": {
    "name": "ipython",
    "version": 3
   },
   "file_extension": ".py",
   "mimetype": "text/x-python",
   "name": "python",
   "nbconvert_exporter": "python",
   "pygments_lexer": "ipython3",
   "version": "3.11.6"
  }
 },
 "nbformat": 4,
 "nbformat_minor": 5
}
