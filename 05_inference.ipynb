{
 "cells": [
  {
   "cell_type": "code",
   "execution_count": null,
   "id": "f578f8c7-2d5b-472a-a645-b142f12df13d",
   "metadata": {},
   "outputs": [],
   "source": [
    "import os\n",
    "import sys\n",
    "import torch\n",
    "import json\n",
    "import pandas as pd\n",
    "import numpy as np\n",
    "from tqdm import tqdm\n",
    "from loguru import logger\n",
    "from typing import List, Dict\n",
    "from torch.nn.utils.rnn import pad_sequence\n",
    "from transformers import AutoModelForTokenClassification, AutoTokenizer\n",
    "from torch.nn.utils.rnn import pad_sequence\n",
    "from datasets import Dataset\n",
    "\n",
    "device = 'cuda'\n",
    "\n",
    "log_format = \"<level>{time:YYYY-MM-DD HH:mm:ss} | {level: <8} | {name}:{function}:{line} - {message}</level>\"\n",
    "\n",
    "logger.remove()\n",
    "logger.add(sys.stdout, format=log_format, level='INFO', colorize=True)"
   ]
  },
  {
   "cell_type": "code",
   "execution_count": null,
   "id": "25651123-9209-4d7b-9407-ee9b6311167d",
   "metadata": {},
   "outputs": [],
   "source": [
    "label2id = {\n",
    "    'O': 0,\n",
    "    'B-NAME_STUDENT': 1,\n",
    "    'B-EMAIL': 2,\n",
    "    'B-USERNAME': 3,\n",
    "    'B-ID_NUM': 4,\n",
    "    'B-PHONE_NUM': 5,\n",
    "    'B-URL_PERSONAL': 6,\n",
    "    'B-STREET_ADDRESS': 7,\n",
    "    'I-NAME_STUDENT': 8,\n",
    "    'I-EMAIL': 9,\n",
    "    'I-USERNAME': 10,\n",
    "    'I-ID_NUM': 11,\n",
    "    'I-PHONE_NUM': 12,\n",
    "    'I-URL_PERSONAL': 13,\n",
    "    'I-STREET_ADDRESS': 14\n",
    "}\n",
    "\n",
    "id2label = {\n",
    "    0: 'O',\n",
    "    1: 'B-NAME_STUDENT',\n",
    "    2: 'B-EMAIL',\n",
    "    3: 'B-USERNAME',\n",
    "    4: 'B-ID_NUM',\n",
    "    5: 'B-PHONE_NUM',\n",
    "    6: 'B-URL_PERSONAL',\n",
    "    7: 'B-STREET_ADDRESS',\n",
    "    8: 'I-NAME_STUDENT',\n",
    "    9: 'I-EMAIL',\n",
    "    10: 'I-USERNAME',\n",
    "    11: 'I-ID_NUM',\n",
    "    12: 'I-PHONE_NUM',\n",
    "    13: 'I-URL_PERSONAL',\n",
    "    14: 'I-STREET_ADDRESS'\n",
    "}"
   ]
  },
  {
   "cell_type": "code",
   "execution_count": null,
   "id": "5e4fcbdb-2e72-4e8b-b1c9-14887c433a2c",
   "metadata": {},
   "outputs": [],
   "source": [
    "def get_data(path):\n",
    "    with open(path, 'r') as fp:\n",
    "        data = json.load(fp)\n",
    "        \n",
    "    x = Dataset.from_dict(data)\n",
    "    logger.info(f'Size of dataset: {len(x)}')\n",
    "\n",
    "    return x\n",
    "\n",
    "\n",
    "def get_model(model_path, tokenizer_path):\n",
    "    model = AutoModelForTokenClassification.from_pretrained(model_path, ignore_mismatched_sizes=True)\n",
    "    tokenizer = AutoTokenizer.from_pretrained(tokenizer_path)\n",
    "    model.to(device)\n",
    "    return model, tokenizer\n",
    "\n",
    "\n",
    "def eval_model(trained_model, eval_dataset):\n",
    "    metrics = {\n",
    "        'document': [None],\n",
    "        'token': [None],\n",
    "        'label': [None]\n",
    "    }\n",
    "    \n",
    "    trained_model.eval()\n",
    "    \n",
    "    with torch.no_grad():\n",
    "        prev_document_idx = None\n",
    "        curr_document_counter = 0\n",
    "\n",
    "        for batch in eval_dataset:\n",
    "            document_idx = batch['document_id']\n",
    "            input_ids = torch.tensor(batch['input_ids']).reshape(1, -1).to(device)\n",
    "            attention_mask = torch.tensor(batch['attention_mask']).reshape(1, -1).to(device)\n",
    "            word_ids = batch['word_ids']\n",
    "            \n",
    "            if document_idx != prev_document_idx:\n",
    "                curr_document_counter = 0\n",
    "\n",
    "            logger.info(f'Evaluating: {document_idx}, previous document: {prev_document_idx}, counter: {curr_document_counter}')\n",
    "    \n",
    "            outputs = model(input_ids, attention_mask=attention_mask)\n",
    "            softmax_scores = torch.nn.functional.softmax(outputs.logits, dim=-1)\n",
    "            \n",
    "            _, predicted_labels = torch.max(outputs.logits, -1)\n",
    "    \n",
    "            i = 0\n",
    "            idx = 0 if document_idx != prev_document_idx else len(batch['input_ids'])*curr_document_counter\n",
    "            logger.info(f'Starting idx: {idx}')\n",
    "            \n",
    "            for a, p, s, w in zip(\n",
    "                attention_mask[0],\n",
    "                predicted_labels[0],\n",
    "                softmax_scores[0],\n",
    "                word_ids\n",
    "            ):\n",
    "                if w is None:\n",
    "                    continue\n",
    "\n",
    "                # Ignore scores if attention mask is not applied\n",
    "                updated_p = p.item() if a.item() != 0 else -100\n",
    "\n",
    "                # If the prediction class is 0 and confidence is less than 0.6\n",
    "                # Assign the second most \n",
    "#                 if updated_p == 0 and s[0].item() < 0.7:\n",
    "#                     _, updated_p = torch.max(outputs.logits[0, i, 1:], -1)\n",
    "#                     updated_p = updated_p.item() + 1\n",
    "#                     logger.info(f'Updated the prediction based on threshold to {updated_p}')\n",
    "\n",
    "                if updated_p <= 0:\n",
    "                    idx += 1\n",
    "                    i += 1\n",
    "                    continue\n",
    "                    \n",
    "                if metrics['token'][-1] == int(w):\n",
    "                    continue\n",
    "    \n",
    "                metrics['document'].append(document_idx)\n",
    "                metrics['token'].append(int(w))\n",
    "                metrics['label'].append(id2label[updated_p])\n",
    "                idx += 1\n",
    "                i += 1\n",
    "                \n",
    "            prev_document_idx = document_idx\n",
    "            curr_document_counter += 1\n",
    "\n",
    "    return metrics"
   ]
  },
  {
   "cell_type": "code",
   "execution_count": null,
   "id": "dc8c0c7c-fa11-4ec1-86fa-eb5f3ec59e13",
   "metadata": {},
   "outputs": [],
   "source": [
    "dataset_path = './data/processed/test/test_processed.json'\n",
    "tokenizer_path = './model/20240406_2252/tokenizer/'\n",
    "model_path = './model/20240406_2252/model/'"
   ]
  },
  {
   "cell_type": "code",
   "execution_count": null,
   "id": "fe951e96-94cc-4787-bf28-208af213aab4",
   "metadata": {},
   "outputs": [],
   "source": [
    "model, tokenizer = get_model(model_path, tokenizer_path)\n",
    "test_ds = get_data(dataset_path)"
   ]
  },
  {
   "cell_type": "code",
   "execution_count": null,
   "id": "9a7370dd-5fb6-41ab-ae90-93e8580d980d",
   "metadata": {
    "scrolled": true
   },
   "outputs": [],
   "source": [
    "test_metrics = eval_model(\n",
    "    trained_model=model,\n",
    "    eval_dataset=test_ds\n",
    ")"
   ]
  },
  {
   "cell_type": "code",
   "execution_count": null,
   "id": "4f619a35-4b0e-41c2-8de8-4e74e3ef89dd",
   "metadata": {},
   "outputs": [],
   "source": [
    "df = pd.DataFrame(test_metrics)\n",
    "df.reset_index(inplace=True)\n",
    "df.columns = ['row_id', 'document', 'token', 'label']"
   ]
  },
  {
   "cell_type": "markdown",
   "id": "4d32a353-05c7-4dad-8d82-2aff650b6dd2",
   "metadata": {},
   "source": [
    "### Rough"
   ]
  },
  {
   "cell_type": "code",
   "execution_count": null,
   "id": "714553aa-4a31-4793-bb69-311434916b24",
   "metadata": {
    "scrolled": true
   },
   "outputs": [],
   "source": [
    "df.query('document==7').token"
   ]
  },
  {
   "cell_type": "code",
   "execution_count": null,
   "id": "ac236031-7b56-4cc5-a106-dab64240e9c0",
   "metadata": {
    "scrolled": true
   },
   "outputs": [],
   "source": [
    "for t, label in zip(df.query('document==7').token, df.query('document==7').label):\n",
    "    print(f\"{data[0]['tokens'][int(t)]} {label}\")"
   ]
  },
  {
   "cell_type": "code",
   "execution_count": null,
   "id": "ae5a5f16-939f-4933-8c3a-8e15d753b2f6",
   "metadata": {},
   "outputs": [],
   "source": [
    "with open('./data/train.json', 'r') as fp:\n",
    "    data = json.load(fp)"
   ]
  },
  {
   "cell_type": "code",
   "execution_count": null,
   "id": "18d98fda-a849-400a-98ed-c36ed5448fd9",
   "metadata": {},
   "outputs": [],
   "source": []
  }
 ],
 "metadata": {
  "kernelspec": {
   "display_name": "Python 3 (ipykernel)",
   "language": "python",
   "name": "python3"
  },
  "language_info": {
   "codemirror_mode": {
    "name": "ipython",
    "version": 3
   },
   "file_extension": ".py",
   "mimetype": "text/x-python",
   "name": "python",
   "nbconvert_exporter": "python",
   "pygments_lexer": "ipython3",
   "version": "3.11.6"
  }
 },
 "nbformat": 4,
 "nbformat_minor": 5
}
